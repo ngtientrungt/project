{
  "cells": [
    {
      "cell_type": "markdown",
      "metadata": {
        "id": "GA71bEz8GXHO"
      },
      "source": [
        "### Trong project này, chúng ta sẽ làm 1 trò chơi nhỏ mang tên đoán số. Cụ thể, Máy tính sẽ chọn random 1 số từ 1 đến 10 (không in ra màn hình).\n",
        "### Chúng ta sẽ đoán máy tính chọn số bao nhiêu?\n",
        "#### - Nếu số chúng ta đoán thấp hơn máy tính thì in ra \"Your guessing number is too low\"\n",
        "#### - Nếu số chúng ta đoán cao hơn máy tính thì in ra \"Your guessing number is too high\"\n",
        "#### - Nếu chúng ta đoán đúng số thì in ra \"You got the correct number after\" xx \"tries\" trong đó xx là số lần đoán. (xx <= 5)\n",
        "#### - Trường hợp 5 lần đoán sai thì sẽ dừng trò chơi và in ra \"Gameover!!! The correct number is yy\" trong đó yy là số mà máy tính chọn\n",
        "\n",
        "#### Những kiến thức cover trong project này: input(), print(), while loop, if - elif - else, break."
      ]
    },
    {
      "cell_type": "code",
      "execution_count": null,
      "metadata": {
        "id": "qnUq0wijGXHQ"
      },
      "outputs": [],
      "source": [
        "# generate random number\n",
        "# guess_limit = 5\n",
        "\n",
        "# input player's name\n",
        "\n",
        "# Say hi and welcome player to the guessing game\n",
        "\n"
      ]
    },
    {
      "cell_type": "code",
      "execution_count": null,
      "metadata": {
        "id": "TZcWdKRfGXHR"
      },
      "outputs": [],
      "source": [
        "# develop while loop\n",
        "# guess = input the number you guess\n",
        "\n",
        "# stop the game when you find out the correct number after xx times (xx <= 5) OR the guessing number in your 5th attempt is still wrong\n",
        "\n"
      ]
    },
    {
      "cell_type": "code",
      "source": [
        "import random\n",
        "print(\"generate random number\")\n",
        "print(\"input your name\")\n",
        "name = input()\n",
        "print(\"Hello \" + name)\n",
        "number = random.randint(1,10)\n",
        "print(\"input the number you guess\")\n",
        "x = 0\n",
        "y = 5\n",
        "while x < 6:\n",
        "  guess = int(input())\n",
        "  x += 1\n",
        "  y -= 1\n",
        "  if guess == number:\n",
        "    print(\"You got the correct number after\" + \" \"+ str(x) +\" \" + \"tries\")\n",
        "    break\n",
        "  if x == 5:\n",
        "    print(\"Gameover!!! The correct number is\" + \" \" + str(number))\n",
        "    break\n",
        "  elif guess > number:\n",
        "      print(\"Your guessing number is too high\" + \", you have\" + \" \" +str(y)+ \" \" + \"turn for guess\")\n",
        "  elif guess < number:\n",
        "      print(\"Your guessing number is low high\" + \", you have\" + \" \" +str(y)+ \" \" + \"turn for guess\")\n",
        "    \n",
        "  "
      ],
      "metadata": {
        "colab": {
          "base_uri": "https://localhost:8080/"
        },
        "id": "5o027a-zNmq3",
        "outputId": "d0e3669a-a666-4efe-d4a1-fdc1e1bc12a2"
      },
      "execution_count": 94,
      "outputs": [
        {
          "output_type": "stream",
          "name": "stdout",
          "text": [
            "generate random number\n",
            "input your name\n",
            "P\n",
            "Hello P\n",
            "input the number you guess\n",
            "9\n",
            "Your guessing number is too high, you have 4 turn for guess\n",
            "6\n",
            "Your guessing number is too high, you have 3 turn for guess\n",
            "3\n",
            "You got the correct number after 3 tries\n"
          ]
        }
      ]
    },
    {
      "cell_type": "code",
      "execution_count": null,
      "metadata": {
        "id": "ePawxi75GXHS"
      },
      "outputs": [],
      "source": []
    },
    {
      "cell_type": "code",
      "execution_count": null,
      "metadata": {
        "id": "bVwoc6t8GXHS"
      },
      "outputs": [],
      "source": []
    }
  ],
  "metadata": {
    "kernelspec": {
      "display_name": "Python 3 (ipykernel)",
      "language": "python",
      "name": "python3"
    },
    "language_info": {
      "codemirror_mode": {
        "name": "ipython",
        "version": 3
      },
      "file_extension": ".py",
      "mimetype": "text/x-python",
      "name": "python",
      "nbconvert_exporter": "python",
      "pygments_lexer": "ipython3",
      "version": "3.9.12"
    },
    "colab": {
      "provenance": [],
      "collapsed_sections": []
    }
  },
  "nbformat": 4,
  "nbformat_minor": 0
}