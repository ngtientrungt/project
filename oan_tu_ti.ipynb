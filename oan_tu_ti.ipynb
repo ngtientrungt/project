{
  "cells": [
    {
      "cell_type": "markdown",
      "metadata": {
        "id": "8Rzvk0M6Zxl1"
      },
      "source": [
        "\n",
        "#### Trong project này chúng ta sẽ mô phỏng lại trò chơi dân gian oẳn tù tì.\n",
        "#### Cụ thể, chúng ta sẽ oẳn tù tì với máy. Máy sẽ chọn random búa, kéo, hoặc lá trong mỗi lần oẳn tù tì.\n",
        "#### Chúng ta sẽ chọn ra búa, kéo hoặc lá sau đó in ra kết quả. Trường hợp người chơi nhập sai, yêu cầu người chơi nhập lại theo đúng chính tả theo 3 sự lựa chọn búa, kéo, hoặc lá.\n",
        "#### Lưu ý, sau mỗi lượt chơi, máy sẽ random chọn lại búa kéo hoặc lá.\n",
        "\n",
        "#### Các kiến thức cover trong mini project này: Array, random, while loop, if - elif - else."
      ]
    },
    {
      "cell_type": "code",
      "execution_count": null,
      "metadata": {
        "id": "WFUSTV-LZxl3"
      },
      "outputs": [],
      "source": [
        "# tạo array búa, kéo, lá\n",
        "\n",
        "\n",
        "# máy chọn random\n",
        "\n",
        "\n",
        "# tạo vòng lặp while để chạy chương trình\n"
      ]
    },
    {
      "cell_type": "code",
      "execution_count": 57,
      "metadata": {
        "colab": {
          "base_uri": "https://localhost:8080/"
        },
        "outputId": "92b0db5f-443d-405d-c1a9-eb074bbd7aba",
        "id": "XJerTXHsESvb"
      },
      "outputs": [
        {
          "output_type": "stream",
          "name": "stdout",
          "text": [
            "nhập hàng để chiến\n",
            "ldf\n",
            "nhập sai yêu cầu\n",
            "lá\n",
            "người chơi chọn lá\n",
            "máy chọn kéo\n",
            "bạn thua, hơi non\n"
          ]
        }
      ],
      "source": [
        "import random\n",
        "game = [\"búa\", \"kéo\", \"lá\"]\n",
        "print(\"nhập hàng để chiến\")\n",
        "user = input()\n",
        "while user not in game:\n",
        "  print(\"nhập sai yêu cầu\")\n",
        "  user = input()\n",
        "  if user in game:\n",
        "    break\n",
        "print(\"người chơi chọn\" +\" \"+ user)\n",
        "may = random.choice(game)\n",
        "print(\"máy chọn\"+ \" \" + may)\n",
        "if user == may:\n",
        "  print(\"hoà\")\n",
        "elif user == \"búa\":\n",
        "  if may == \"kéo\":\n",
        "    print(\"bạn thắng\")\n",
        "  else: print(\"bạn thua, hơi non\")\n",
        "elif user == \"lá\":\n",
        "  if may == \"búa\":\n",
        "    print(\"bạn thắng\")\n",
        "  else: print(\"bạn thua, hơi non\")\n",
        "elif user == \"kéo\":\n",
        "  if may == \"lá\":\n",
        "    print(\"bạn thắng\")\n",
        "  else: print(\"bạn thua, hơi non\")\n",
        "\n"
      ]
    }
  ],
  "metadata": {
    "kernelspec": {
      "display_name": "Python 3 (ipykernel)",
      "language": "python",
      "name": "python3"
    },
    "language_info": {
      "codemirror_mode": {
        "name": "ipython",
        "version": 3
      },
      "file_extension": ".py",
      "mimetype": "text/x-python",
      "name": "python",
      "nbconvert_exporter": "python",
      "pygments_lexer": "ipython3",
      "version": "3.9.12"
    },
    "colab": {
      "provenance": []
    }
  },
  "nbformat": 4,
  "nbformat_minor": 0
}